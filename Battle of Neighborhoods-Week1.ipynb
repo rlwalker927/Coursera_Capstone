{
 "cells": [
  {
   "cell_type": "markdown",
   "metadata": {},
   "source": [
    "# Battle the Neighborhoods (Applied DS Capstone Project) - Week 1"
   ]
  },
  {
   "cell_type": "markdown",
   "metadata": {},
   "source": [
    "### Intoduction/Business Problem\n"
   ]
  },
  {
   "attachments": {},
   "cell_type": "markdown",
   "metadata": {},
   "source": [
    "Clearly define a problem or an idea of your choice, where you would need to leverage the Foursquare location data to solve or execute. Remember that data science problems always target an audience and are meant to help a group of stakeholders solve a problem, so make sure that you explicitly describe your audience and why they would care about your problem.\n",
    "\n",
    "•\tIn a city of your choice, if someone is looking to open a restaurant, where would you recommend that they open it?"
   ]
  },
  {
   "cell_type": "markdown",
   "metadata": {},
   "source": [
    "   After being in our nation’s capital for over two years now, I have been fortunate enough to experience a variety of Washington D.C.’s attractions and resources that make the city such a hot commodity. With experience in exploring various neighborhoods all over the area, one asset of this location is very apparent—there is an extremely diverse portfolio of restaurant options in this area. This development of food options continues to expand, and the District of Columbia is attracting various potential restaurant owners who hope to find success in a fairly unfamiliar environment. With limited knowledge of city’s layout and so many neighborhoods to choose from, these stakeholders might wonder where exactly the best location to open up a new restaurant might be.\n",
    "    \n",
    "   Fortunately, for those whom this might appeal to, through Foursquare Places, a location data provider, few API calls can be made to trace the popular restaurants by cuisine in each neighborhood in Washington, D.C. This information can then be used by owners hoping to open up a restaurant in order to carefully target neighborhoods where there is less competition and greater potential to attract more customers that would help make the business thrive."
   ]
  },
  {
   "cell_type": "markdown",
   "metadata": {},
   "source": [
    "### Data"
   ]
  },
  {
   "attachments": {},
   "cell_type": "markdown",
   "metadata": {},
   "source": [
    "Describe the data that you will be using to solve the problem or execute your idea. Remember that you will need to use the Foursquare location data to solve the problem or execute your idea. You can absolutely use other datasets in combination with the Foursquare location data. So make sure that you provide adequate explanation and discussion, with examples, of the data that you will be using, even if it is only Foursquare location data."
   ]
  },
  {
   "attachments": {},
   "cell_type": "markdown",
   "metadata": {},
   "source": [
    "   The data being used for exploring how to solve the problem of deciding where to open up a particular restaurant in Washington, D.C. will be very similar to the data used to explore and analyze neighborhoods in New York City and Toronto.\n",
    "\t\n",
    "   In order to do so, I will first need to download all of the appropriate dependencies and packages required into my Jupyter Notebook. These include Numpy, Pandas, JSON, Geopy, Matplotlib, Scikit-Learn, and Folium. I have performed a Google search to obtain a dataset that exists freely on the web, containing the various neighborhoods and latitude/longitude coordinates of each neighborhood in Washington, D.C. \n",
    "\t\n",
    "   Next, I will then begin to utilize the Foursquare API to explore various neighborhoods throughout the District of Columbia and then segment them. I will need to create a function that extracts the category of the venue and then clean the JSON file into a pandas dataframe. With this new format, I will now be able to filter attractions within a neighborhood that could be classified as a “restaurant” in order to focus directly on these venues rather than those unrelated. For example, I can request how many unique categories exist for all neighborhoods in D.C. and then choose to target data that exists for a given cuisine.\n",
    "\t\n",
    "   Depending on the cuisine of interest for a restaurant owner, it will be especially helpful to then create a dataframe that shows frequency data for restaurants of a given cuisine. Through ranking the most popular cuisines within a neighborhood, I can cluster neighborhoods that share similar cuisines and know to avoid opening a similar restaurant in these areas. I will be focusing on the 10 most popular cuisines in Washington, D.C. for this project rather than exploring a single option.\n",
    "\t\n",
    "   Additionally, to further my analysis, I will create a cluster map that visually displays how close these neighborhoods are together so restaurant owners aren’t misled in assuming that they shouldn’t focus on a given neighborhood and can get a clearer understanding of how many people tend to reside/go out to eat in certain areas."
   ]
  },
  {
   "cell_type": "code",
   "execution_count": null,
   "metadata": {},
   "outputs": [],
   "source": []
  }
 ],
 "metadata": {
  "kernelspec": {
   "display_name": "Python 3",
   "language": "python",
   "name": "python3"
  },
  "language_info": {
   "codemirror_mode": {
    "name": "ipython",
    "version": 3
   },
   "file_extension": ".py",
   "mimetype": "text/x-python",
   "name": "python",
   "nbconvert_exporter": "python",
   "pygments_lexer": "ipython3",
   "version": "3.7.3"
  }
 },
 "nbformat": 4,
 "nbformat_minor": 2
}
